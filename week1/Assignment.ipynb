{
 "cells": [
  {
   "cell_type": "markdown",
   "metadata": {},
   "source": [
    "# Advanced Numpy, Librosa, and Neural Networks Assignment\n",
    "This assignment will guide you through advanced Numpy operations, basic and advanced usage of Librosa for audio processing, Fourier transforms, Butterworth filtering, and the creation of a simple Artificial Neuron using Python classes and objects."
   ]
  },
  {
   "cell_type": "markdown",
   "metadata": {},
   "source": [
    "## Part 1: Audio Signal Processing\n",
    "In this section, you will learn how to load an audio file, perform Fourier Transform to analyze the signal in the frequency domain, apply a Butterworth filter, and visualize the results."
   ]
  },
  {
   "cell_type": "code",
   "execution_count": 1,
   "metadata": {},
   "outputs": [],
   "source": [
    "# Install necessary libraries\n",
    "# Uncomment and run the next line to install libraries if they are not installed.\n",
    "# pip install numpy librosa scipy matplotlib\n",
    "import librosa\n",
    "import numpy as np\n",
    "import matplotlib.pyplot as plt\n",
    "import librosa.display\n"
   ]
  },
  {
   "cell_type": "markdown",
   "metadata": {},
   "source": [
    "### Step 1: Load the Audio Data\n",
    "Use `librosa` to load the given audio file and visualize the waveform."
   ]
  },
  {
   "cell_type": "code",
   "execution_count": null,
   "metadata": {},
   "outputs": [],
   "source": [
    "# Load the audio file \n",
    "audio_file = # Code goes here\n",
    "y, sr = librosa.load(audio_file, sr=None)\n",
    "\n",
    "# Plot the signal\n",
    "plt.figure(figsize=(12, 6))\n",
    "# Code goes here"
   ]
  },
  {
   "cell_type": "markdown",
   "metadata": {},
   "source": [
    "### Step 2: Perform Fourier Transform\n",
    "Use Numpy's `fft` function to perform Fourier Transform on the audio signal and plot its frequency spectrum."
   ]
  },
  {
   "cell_type": "code",
   "execution_count": null,
   "metadata": {},
   "outputs": [],
   "source": [
    "# Perform Fourier Transform on the signal\n",
    "Y = # Code goes here\n",
    "# Get frequency bins\n",
    "frequencies = # Code goes here\n",
    "# Plot the magnitude spectrum\n",
    "plt.figure(figsize=(12, 6))\n",
    "# Code goes here"
   ]
  },
  {
   "cell_type": "markdown",
   "metadata": {},
   "source": [
    "### Step 3: Apply a Butterworth Filter\n",
    "Use a Butterworth filter to remove unwanted frequencies and plot the filtered signal, and save the audio as a .wav file, using the `soundfile` package."
   ]
  },
  {
   "cell_type": "code",
   "execution_count": null,
   "metadata": {},
   "outputs": [],
   "source": [
    "from scipy.signal import butter, filtfilt\n",
    "import soundfile as sf\n",
    "\n",
    "def butter_lowpass(cutoff, fs, order=5):\n",
    "    nyquist = 0.5 * fs\n",
    "    normal_cutoff = cutoff / nyquist\n",
    "    b, a = butter(order, normal_cutoff, btype='low', analog=False)\n",
    "    return b, a\n",
    "\n",
    "cutoff_frequency = # Use the best cutoff frequency that you get by trial and error\n",
    "order = 6\n",
    "# Filter the audio\n",
    "# Code goes here\n",
    "\n",
    "# Save the audio as \"audio.wav\"\n",
    "# Code goes here\n",
    "\n",
    "# Plot filtered audio signal\n",
    "plt.figure(figsize=(12, 6))\n",
    "# Code goes here"
   ]
  },
  {
   "cell_type": "markdown",
   "metadata": {},
   "source": [
    "### Step 4: Fourier Transform of the Filtered Signal\n",
    "Apply Fourier Transform on the filtered signal and visualize the spectrum to compare it with the original signal."
   ]
  },
  {
   "cell_type": "code",
   "execution_count": null,
   "metadata": {},
   "outputs": [],
   "source": [
    "# Perform Fourier Transform on the filtered signal\n",
    "# Code goes here\n",
    "\n",
    "\n",
    "# Plot the magnitude spectrum of the filtered signal\n",
    "plt.figure(figsize=(12, 6))\n",
    "# Code goes here"
   ]
  },
  {
   "cell_type": "markdown",
   "metadata": {},
   "source": [
    "## Part 2: Implementing a Simple Artificial Neuron\n",
    "In this section, you will implement a basic Artificial Neuron using Python classes and objects."
   ]
  },
  {
   "cell_type": "code",
   "execution_count": null,
   "metadata": {},
   "outputs": [],
   "source": [
    "import numpy as np\n",
    "# Define a simple neuron class\n",
    "class Neuron:\n",
    "    def __init__(self, num_inputs, weights):\n",
    "        # Code goes here\n",
    "    def sigmoid(self, x):\n",
    "        # Code goes here\n",
    "    def feedforward(self, inputs):\n",
    "        # Code goes here\n",
    "\n",
    "# Test the Neuron\n",
    "weights = np.array([0.2, 0.4, 0.4])\n",
    "neuron = Neuron(3, weights)\n",
    "inputs = np.array([0.5, 0.3, 0.8])\n",
    "output = neuron.feedforward(inputs)\n",
    "print('Output from the neuron:', output)"
   ]
  },
  {
   "cell_type": "markdown",
   "metadata": {},
   "source": [
    "### [Additional]\n",
    "This is an implementation of a simple training function using gradient descent to update the weights and bias of the neuron."
   ]
  },
  {
   "cell_type": "code",
   "execution_count": null,
   "metadata": {},
   "outputs": [],
   "source": [
    "class Neuron:\n",
    "    def __init__(self, num_inputs, learning_rate=0.1):\n",
    "        self.weights = np.random.rand(num_inputs)\n",
    "        self.bias = np.random.rand(1)\n",
    "        self.learning_rate = learning_rate\n",
    "    def sigmoid(self, x):\n",
    "        return 1 / (1 + np.exp(-x))\n",
    "    def sigmoid_derivative(self, x):\n",
    "        return x * (1 - x)\n",
    "    def feedforward(self, inputs):\n",
    "        self.inputs = inputs\n",
    "        self.total_input = np.dot(inputs, self.weights) + self.bias\n",
    "        self.output = self.sigmoid(self.total_input)\n",
    "        return self.output\n",
    "    def train(self, inputs, expected_output, epochs=1000):\n",
    "        for epoch in range(epochs):\n",
    "            output = self.feedforward(inputs)\n",
    "            error = expected_output - output\n",
    "            derror = error * self.sigmoid_derivative(output)\n",
    "            self.weights += self.learning_rate * derror * inputs\n",
    "            self.bias += self.learning_rate * derror"
   ]
  }
 ],
 "metadata": {
  "kernelspec": {
   "display_name": "Python 3",
   "language": "python",
   "name": "python3"
  },
  "language_info": {
   "codemirror_mode": {
    "name": "ipython",
    "version": 3
   },
   "file_extension": ".py",
   "mimetype": "text/x-python",
   "name": "python",
   "nbconvert_exporter": "python",
   "pygments_lexer": "ipython3",
   "version": "3.11.9"
  }
 },
 "nbformat": 4,
 "nbformat_minor": 5
}
